{
 "cells": [
  {
   "cell_type": "markdown",
   "metadata": {},
   "source": [
    "# Pymaceuticals Inc.\n",
    "---\n",
    "\n",
    "### Analysis\n",
    "\n",
    "- Add your analysis here.\n",
    "One observation that can be made from the data is capomulin and ramicane drug performance are very similar. The summary statistics table depicts values for mean, median, variance, standard deviation, and standard error tumor volumes that don't deviate significantly between the two drug regimens. It can be inferred that capomulin and ramicane are the most recommended drug regimens to be used for treatment of mice with squamous cell carcinoma. Another observation is that the higher the mouse weight, the higher the tumor volume. This supports the idea that regardless of the drug's effectiveness, tumor development is still expected to increase for bigger-sized mice. A third observation is that ketapril has the highest mean tumor volume, which indicates that this drug is the least effective in treating mice with SCC."
   ]
  },
  {
   "cell_type": "code",
   "execution_count": null,
   "metadata": {},
   "outputs": [],
   "source": [
    "#Specify imports for data visualization, pandas, and statistics\n",
    "import matplotlib.pyplot as plt\n",
    "import pandas as pd\n",
    "import scipy.stats as st\n",
    "\n",
    "#Sets the file path from the current, which is specified as \".\", to the specific file\n",
    "mouse_metadata_path = \"./data/Mouse_metadata.csv\"\n",
    "study_results_path = \"./data/Study_results.csv\"\n",
    "\n",
    "#Reads the mouse metadata and study results csv files through pandas\n",
    "mouse_metadata_read = pd.read_csv(mouse_metadata_path)\n",
    "study_results_read = pd.read_csv(study_results_path)\n",
    "\n",
    "#Merge the datasets by using Mouse ID as the common denominator and includes the rows from the second dataset with the same mouse id and discards the other rows.\n",
    "study_data_complete_df = pd.merge(study_results_read, mouse_metadata_read, how=\"left\", on=\"Mouse ID\")\n",
    "\n",
    "#Show the merged dataset\n",
    "study_data_complete_df"
   ]
  },
  {
   "cell_type": "code",
   "execution_count": null,
   "metadata": {},
   "outputs": [],
   "source": [
    "#Determines the number of unique mouse IDs in the dataset\n",
    "len(study_data_complete_df[\"Mouse ID\"].unique())"
   ]
  },
  {
   "cell_type": "code",
   "execution_count": null,
   "metadata": {},
   "outputs": [],
   "source": [
    "#Grab the duplicates of the dataset where mice id's have same timepoints. \n",
    "mouse_ID_duplicates = study_data_complete_df[study_data_complete_df.duplicated(subset=[\"Mouse ID\", \"Timepoint\"])][\"Mouse ID\"].unique()\n",
    "mouse_ID_duplicates"
   ]
  },
  {
   "cell_type": "code",
   "execution_count": null,
   "metadata": {},
   "outputs": [],
   "source": [
    "#Show data for the g989 duplicate mouse ID\n",
    "dataset_mouse_duplicate = study_data_complete_df[study_data_complete_df[\"Mouse ID\"] == \"g989\"]\n",
    "dataset_mouse_duplicate"
   ]
  },
  {
   "cell_type": "code",
   "execution_count": null,
   "metadata": {},
   "outputs": [],
   "source": [
    "#Make a new dataframe where the g989 duplicate mouse ID is omitted\n",
    "clean_data_df = study_data_complete_df[study_data_complete_df[\"Mouse ID\"].isin(mouse_ID_duplicates) == False]\n",
    "clean_data_df"
   ]
  },
  {
   "cell_type": "code",
   "execution_count": null,
   "metadata": {},
   "outputs": [],
   "source": [
    "#Determines the number of unique mouse IDs in the new clean dataset\n",
    "len(clean_data_df[\"Mouse ID\"].unique())"
   ]
  },
  {
   "cell_type": "markdown",
   "metadata": {},
   "source": [
    "## Summary Statistics"
   ]
  },
  {
   "cell_type": "code",
   "execution_count": null,
   "metadata": {},
   "outputs": [],
   "source": [
    "#Provide summary statistics on the clean data dataframe\n",
    "mean = clean_data_df.groupby(\"Drug Regimen\").mean()[\"Tumor Volume (mm3)\"]\n",
    "median = clean_data_df.groupby(\"Drug Regimen\").median()[\"Tumor Volume (mm3)\"]\n",
    "variance = clean_data_df.groupby(\"Drug Regimen\").var()[\"Tumor Volume (mm3)\"]\n",
    "standard_deviation = clean_data_df.groupby(\"Drug Regimen\").std()[\"Tumor Volume (mm3)\"]\n",
    "SEM = clean_data_df.groupby(\"Drug Regimen\").sem()[\"Tumor Volume (mm3)\"]\n",
    "\n",
    "#Take the previous results, which are data series, and put them in a pandas dataframe.\n",
    "summary_statistics_df = pd.DataFrame({\n",
    "    \"Mean Tumor Volume\" : mean,\n",
    "    \"Median Tumor Volume\" : median,\n",
    "    \"Tumor Volume Variance\" : variance,\n",
    "    \"Tumor Volume Standard Deviation\" : standard_deviation,\n",
    "    \"Tumor Volume Standard Error\" : SEM,\n",
    "})\n",
    "#Display the results\n",
    "summary_statistics_df"
   ]
  },
  {
   "cell_type": "code",
   "execution_count": null,
   "metadata": {},
   "outputs": [],
   "source": [
    "# A more advanced method to generate a summary statistics table of mean, median, variance, standard deviation,\n",
    "# and SEM of the tumor volume for each regimen (only one method is required in the solution)\n",
    "\n",
    "# Using the aggregation method, produce the same summary statistics in a single line\n"
   ]
  },
  {
   "cell_type": "markdown",
   "metadata": {},
   "source": [
    "## Bar and Pie Charts"
   ]
  },
  {
   "cell_type": "code",
   "execution_count": null,
   "metadata": {
    "scrolled": true
   },
   "outputs": [],
   "source": [
    "#Create bar graph for each drug regimen and total number of tested mice\n",
    "counts_drug_reg = clean_data_df[\"Drug Regimen\"].value_counts()\n",
    "counts_drug_reg.plot(kind=\"bar\")\n",
    "plt.xlabel(\"Drug Regimen\")\n",
    "plt.ylabel(\"Number of Tested Mice\")\n",
    "plt.show()"
   ]
  },
  {
   "cell_type": "code",
   "execution_count": null,
   "metadata": {},
   "outputs": [],
   "source": [
    "#Create bar graph using pyplot\n",
    "counts_drug_reg = clean_data_df[\"Drug Regimen\"].value_counts()\n",
    "plt.bar(counts_drug_reg.index.values, counts_drug_reg.values) \n",
    "plt.xlabel(\"Drug Regimen\")\n",
    "plt.xticks(rotation=90)\n",
    "plt.ylabel(\"Number of Tested Mice\")\n",
    "plt.show()"
   ]
  },
  {
   "cell_type": "code",
   "execution_count": null,
   "metadata": {},
   "outputs": [],
   "source": [
    "#Pie chart using Pandas\n",
    "count_drug_reg_pie = clean_data_df.Sex.value_counts()\n",
    "count_drug_reg_pie.plot(kind=\"pie\", autopct = \"%1.1f%%\")"
   ]
  },
  {
   "cell_type": "code",
   "execution_count": null,
   "metadata": {},
   "outputs": [],
   "source": [
    "#Same pie chart using pyplot\n",
    "count_drug_reg_pie = clean_data_df.Sex.value_counts()\n",
    "plt.pie(count_drug_reg_pie.values, labels=count_drug_reg_pie.index.values, autopct='%1.1f%%')\n",
    "plt.ylabel(\"Sex\")"
   ]
  },
  {
   "cell_type": "markdown",
   "metadata": {},
   "source": [
    "## Quartiles, Outliers and Boxplots"
   ]
  },
  {
   "cell_type": "code",
   "execution_count": null,
   "metadata": {},
   "outputs": [],
   "source": [
    "#Calculate the greatest timepoint\n",
    "greatest_tp = clean_data_df.groupby([\"Mouse ID\"])[\"Timepoint\"].max()\n",
    "greatest_tp = greatest_tp.reset_index()\n",
    "# Merge this group df with the original DataFrame to get the tumor volume at the last timepoint\n",
    "data_merged = greatest_tp.merge(clean_data_df, on=[\"Mouse ID\", \"Timepoint\"], how=\"left\")"
   ]
  },
  {
   "cell_type": "code",
   "execution_count": null,
   "metadata": {},
   "outputs": [],
   "source": [
    "#Create a list treatments with four specific drug regimens\n",
    "treatments = [\"Capomulin\", \"Ramicane\", \"Infubinol\", \"Ceftamin\"]\n",
    "\n",
    "#Create empty list for tumor volume later on\n",
    "tumor_vol = []\n",
    "\n",
    "#For each drug in treatments list\n",
    "for drug in treatments:\n",
    "    \n",
    "    #Determine the specific volume for each drug\n",
    "    final_tvol = data_merged.loc[data_merged[\"Drug Regimen\"] == drug, \"Tumor Volume (mm3)\"]\n",
    "    \n",
    "    #Add it to the empty list \n",
    "    tumor_vol.append(final_tvol)\n",
    "    \n",
    "    #Calculate outliers\n",
    "    quartiles = final_tvol.quantile([0.25, .5, .75])\n",
    "    lowerq = quartiles[0.25]\n",
    "    upperq = quartiles[0.75]\n",
    "    iqr = upperq - lowerq\n",
    "    lowerbound = lowerq - (1.5* iqr)\n",
    "    upperbound = upperq + (1.5 * iqr)\n",
    "    outliers = final_tvol.loc[(final_tvol > lowerbound) | (final_tvol > upperbound)]"
   ]
  },
  {
   "cell_type": "code",
   "execution_count": null,
   "metadata": {},
   "outputs": [],
   "source": [
    "#Create a box plot showing the distribution of tumor volume for each treatment group\n",
    "orange_out = dict(markerfacecolor='red', markersize=15)\n",
    "plt.boxplot(tumor_vol, labels = treatments, flierprops=orange_out)\n",
    "plt.ylabel(\"Final Tumor Volume (mm3)\")\n",
    "plt.show()"
   ]
  },
  {
   "cell_type": "markdown",
   "metadata": {},
   "source": [
    "## Line and Scatter Plots"
   ]
  },
  {
   "cell_type": "code",
   "execution_count": null,
   "metadata": {},
   "outputs": [],
   "source": [
    "#Make a line for r554 mouse with capomulin drug regimen as an example\n",
    "capomulin_data = clean_data_df[clean_data_df[\"Drug Regimen\"] == \"Capomulin\"]\n",
    "mouse_data = capomulin_data[capomulin_data[\"Mouse ID\"] == \"r554\"]\n",
    "plt.plot(mouse_data[\"Timepoint\"], mouse_data[\"Tumor Volume (mm3)\"])\n",
    "plt.xlabel(\"Timepoint (days)\")\n",
    "plt.ylabel(\"Tumor Volume (mm3)\")\n",
    "plt.title(\"Capomulin treamtment of mouse r554 over time\")\n"
   ]
  },
  {
   "cell_type": "code",
   "execution_count": null,
   "metadata": {},
   "outputs": [],
   "source": [
    "#Create a scatter plot of mouse weight and the average observed tumor volume for all those treated with Capomulin\n",
    "capomulin_data = clean_data_df[clean_data_df[\"Drug Regimen\"] == \"Capomulin\"]\n",
    "capomulin_avg = capomulin_data.groupby([\"Mouse ID\"]).mean()\n",
    "plt.scatter(capomulin_avg[\"Weight (g)\"], capomulin_avg[\"Tumor Volume (mm3)\"])\n",
    "plt.xlabel(\"Weight (g)\")\n",
    "plt.ylabel(\"Average Tumor Volume (mm3)\")\n",
    "plt.show()"
   ]
  },
  {
   "cell_type": "markdown",
   "metadata": {},
   "source": [
    "## Correlation and Regression"
   ]
  },
  {
   "cell_type": "code",
   "execution_count": null,
   "metadata": {},
   "outputs": [],
   "source": [
    "#Find the correlation coefficient and a linear regression model for mouse weight and average observed tumor volume for all those trated with Capomulin\n",
    "correlation = st.pearsonr(capomulin_avg[\"Weight (g)\"], capomulin_avg[\"Tumor Volume (mm3)\"])\n",
    "print(f\"The correlation between is {round(correlation[0],2)}\")\n",
    "\n",
    "#Create the x and y values\n",
    "model = st.linregress(capomulin_avg[\"Weight (g)\"], capomulin_avg[\"Tumor Volume (mm3)\"])\n",
    "\n",
    "#Set line slope to 0th index since the model displays slope as the first item in the list\n",
    "slope = model[0]\n",
    "\n",
    "#Set line slope to 1st index since the model displays slope as the first item in the list\n",
    "b = model[1]\n",
    "y_values = capomulin_avg[\"Weight (g)\"] * slope + b\n",
    "plt.scatter(capomulin_avg[\"Weight (g)\"], capomulin_avg[\"Tumor Volume (mm3)\"])\n",
    "plt.plot(capomulin_avg[\"Weight (g)\"], y_values, color=\"red\")\n",
    "plt.xlabel(\"Weight (g)\")\n",
    "plt.ylabel(\"Average Tumor Volume (mm3)\")\n",
    "plt.show()"
   ]
  }
 ],
 "metadata": {
  "anaconda-cloud": {},
  "kernelspec": {
   "display_name": "Python 3 (ipykernel)",
   "language": "python",
   "name": "python3"
  },
  "language_info": {
   "codemirror_mode": {
    "name": "ipython",
    "version": 3
   },
   "file_extension": ".py",
   "mimetype": "text/x-python",
   "name": "python",
   "nbconvert_exporter": "python",
   "pygments_lexer": "ipython3",
   "version": "3.11.4"
  }
 },
 "nbformat": 4,
 "nbformat_minor": 4
}
